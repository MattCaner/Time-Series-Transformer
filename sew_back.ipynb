{
 "cells": [
  {
   "cell_type": "code",
   "execution_count": 9,
   "metadata": {},
   "outputs": [],
   "source": [
    "names = ['negative','positive','neutral','negative_std','positive_std','neutral_std']\n",
    "\n",
    "files = [open(str(n)+'.txt','r') for n in names]\n",
    "\n",
    "cut_data = []\n",
    "\n",
    "for f in files:\n",
    "    data = f.read()\n",
    "    cut = data.split(',')\n",
    "    cut_data.append(cut)\n"
   ]
  },
  {
   "cell_type": "code",
   "execution_count": 11,
   "metadata": {},
   "outputs": [
    {
     "name": "stdout",
     "output_type": "stream",
     "text": [
      "1825\n"
     ]
    }
   ],
   "source": [
    "\n",
    "output = open('sentiment.csv','w')\n",
    "counter = 0\n",
    "for i in range(1825):\n",
    "    for j in cut_data:\n",
    "        output.write(str(j[i])+',')\n",
    "    output.write('\\n')\n",
    "    counter += 1\n",
    "\n",
    "print(counter)"
   ]
  }
 ],
 "metadata": {
  "kernelspec": {
   "display_name": "base",
   "language": "python",
   "name": "python3"
  },
  "language_info": {
   "codemirror_mode": {
    "name": "ipython",
    "version": 3
   },
   "file_extension": ".py",
   "mimetype": "text/x-python",
   "name": "python",
   "nbconvert_exporter": "python",
   "pygments_lexer": "ipython3",
   "version": "3.9.16"
  },
  "orig_nbformat": 4
 },
 "nbformat": 4,
 "nbformat_minor": 2
}
