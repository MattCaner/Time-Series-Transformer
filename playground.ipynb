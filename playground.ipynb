{
 "cells": [
  {
   "cell_type": "code",
   "execution_count": 1,
   "metadata": {},
   "outputs": [],
   "source": [
    "import pandas as pd\n",
    "\n",
    "import torch\n",
    "from torch import nn\n",
    "from torch import Tensor\n",
    "import math\n",
    "import configparser\n",
    "from torch.utils.data import Dataset, DataLoader\n",
    "\n",
    "from torch import cuda\n"
   ]
  },
  {
   "cell_type": "code",
   "execution_count": 2,
   "metadata": {},
   "outputs": [
    {
     "data": {
      "text/html": [
       "<div>\n",
       "<style scoped>\n",
       "    .dataframe tbody tr th:only-of-type {\n",
       "        vertical-align: middle;\n",
       "    }\n",
       "\n",
       "    .dataframe tbody tr th {\n",
       "        vertical-align: top;\n",
       "    }\n",
       "\n",
       "    .dataframe thead th {\n",
       "        text-align: right;\n",
       "    }\n",
       "</style>\n",
       "<table border=\"1\" class=\"dataframe\">\n",
       "  <thead>\n",
       "    <tr style=\"text-align: right;\">\n",
       "      <th></th>\n",
       "      <th>Date</th>\n",
       "      <th>Day of the week [-]</th>\n",
       "      <th>Temp [C]</th>\n",
       "      <th>Humidity [%]</th>\n",
       "      <th>Wind [m/s]</th>\n",
       "      <th>Clouds [1/8]</th>\n",
       "      <th>SUM - Entry [GWh/d]</th>\n",
       "      <th>SUM - Exit [GWh/d]</th>\n",
       "      <th>SUM - Exit t-1d [GWh/d]</th>\n",
       "      <th>Storage t-1d [GWh/d]</th>\n",
       "      <th>Storage [GWh/d]</th>\n",
       "    </tr>\n",
       "  </thead>\n",
       "  <tbody>\n",
       "    <tr>\n",
       "      <th>0</th>\n",
       "      <td>01/01/2017</td>\n",
       "      <td>7.0</td>\n",
       "      <td>-2.078947</td>\n",
       "      <td>85.666667</td>\n",
       "      <td>2.817778</td>\n",
       "      <td>2.587273</td>\n",
       "      <td>466.017771</td>\n",
       "      <td>555.507468</td>\n",
       "      <td>555.507468</td>\n",
       "      <td>179.179566</td>\n",
       "      <td>179.179566</td>\n",
       "    </tr>\n",
       "    <tr>\n",
       "      <th>1</th>\n",
       "      <td>02/01/2017</td>\n",
       "      <td>1.0</td>\n",
       "      <td>-1.885965</td>\n",
       "      <td>83.711111</td>\n",
       "      <td>2.886667</td>\n",
       "      <td>2.647273</td>\n",
       "      <td>482.377191</td>\n",
       "      <td>615.189159</td>\n",
       "      <td>555.507468</td>\n",
       "      <td>179.179566</td>\n",
       "      <td>185.100405</td>\n",
       "    </tr>\n",
       "    <tr>\n",
       "      <th>2</th>\n",
       "      <td>03/01/2017</td>\n",
       "      <td>2.0</td>\n",
       "      <td>-1.631579</td>\n",
       "      <td>89.711111</td>\n",
       "      <td>3.633333</td>\n",
       "      <td>3.312727</td>\n",
       "      <td>507.121338</td>\n",
       "      <td>623.232658</td>\n",
       "      <td>615.189159</td>\n",
       "      <td>185.100405</td>\n",
       "      <td>218.470698</td>\n",
       "    </tr>\n",
       "    <tr>\n",
       "      <th>3</th>\n",
       "      <td>04/01/2017</td>\n",
       "      <td>3.0</td>\n",
       "      <td>0.229825</td>\n",
       "      <td>88.800000</td>\n",
       "      <td>5.257778</td>\n",
       "      <td>4.689091</td>\n",
       "      <td>484.296908</td>\n",
       "      <td>626.042006</td>\n",
       "      <td>623.232658</td>\n",
       "      <td>218.470698</td>\n",
       "      <td>207.183162</td>\n",
       "    </tr>\n",
       "    <tr>\n",
       "      <th>4</th>\n",
       "      <td>05/01/2017</td>\n",
       "      <td>4.0</td>\n",
       "      <td>-5.033333</td>\n",
       "      <td>80.111111</td>\n",
       "      <td>4.384444</td>\n",
       "      <td>3.974545</td>\n",
       "      <td>483.992000</td>\n",
       "      <td>689.796844</td>\n",
       "      <td>626.042006</td>\n",
       "      <td>207.183162</td>\n",
       "      <td>223.941467</td>\n",
       "    </tr>\n",
       "    <tr>\n",
       "      <th>...</th>\n",
       "      <td>...</td>\n",
       "      <td>...</td>\n",
       "      <td>...</td>\n",
       "      <td>...</td>\n",
       "      <td>...</td>\n",
       "      <td>...</td>\n",
       "      <td>...</td>\n",
       "      <td>...</td>\n",
       "      <td>...</td>\n",
       "      <td>...</td>\n",
       "      <td>...</td>\n",
       "    </tr>\n",
       "    <tr>\n",
       "      <th>1821</th>\n",
       "      <td>27/12/2021</td>\n",
       "      <td>3.0</td>\n",
       "      <td>-10.050877</td>\n",
       "      <td>85.044444</td>\n",
       "      <td>1.824444</td>\n",
       "      <td>1.736364</td>\n",
       "      <td>586.072921</td>\n",
       "      <td>851.060055</td>\n",
       "      <td>778.596491</td>\n",
       "      <td>116.434676</td>\n",
       "      <td>164.700744</td>\n",
       "    </tr>\n",
       "    <tr>\n",
       "      <th>1822</th>\n",
       "      <td>28/12/2021</td>\n",
       "      <td>4.0</td>\n",
       "      <td>-5.714035</td>\n",
       "      <td>86.422222</td>\n",
       "      <td>3.097778</td>\n",
       "      <td>3.038182</td>\n",
       "      <td>620.830330</td>\n",
       "      <td>914.931349</td>\n",
       "      <td>851.060055</td>\n",
       "      <td>164.700744</td>\n",
       "      <td>205.577578</td>\n",
       "    </tr>\n",
       "    <tr>\n",
       "      <th>1823</th>\n",
       "      <td>29/12/2021</td>\n",
       "      <td>5.0</td>\n",
       "      <td>-1.770175</td>\n",
       "      <td>91.611111</td>\n",
       "      <td>1.506667</td>\n",
       "      <td>1.430909</td>\n",
       "      <td>619.364426</td>\n",
       "      <td>878.801180</td>\n",
       "      <td>914.931349</td>\n",
       "      <td>205.577578</td>\n",
       "      <td>170.559363</td>\n",
       "    </tr>\n",
       "    <tr>\n",
       "      <th>1824</th>\n",
       "      <td>30/12/2021</td>\n",
       "      <td>6.0</td>\n",
       "      <td>2.092982</td>\n",
       "      <td>93.988889</td>\n",
       "      <td>1.960000</td>\n",
       "      <td>1.900000</td>\n",
       "      <td>508.063438</td>\n",
       "      <td>818.608756</td>\n",
       "      <td>878.801180</td>\n",
       "      <td>170.559363</td>\n",
       "      <td>176.970948</td>\n",
       "    </tr>\n",
       "    <tr>\n",
       "      <th>1825</th>\n",
       "      <td>31/12/2021</td>\n",
       "      <td>7.0</td>\n",
       "      <td>7.370175</td>\n",
       "      <td>94.466667</td>\n",
       "      <td>3.380000</td>\n",
       "      <td>3.212727</td>\n",
       "      <td>618.683263</td>\n",
       "      <td>716.773191</td>\n",
       "      <td>818.608756</td>\n",
       "      <td>176.970948</td>\n",
       "      <td>151.935409</td>\n",
       "    </tr>\n",
       "  </tbody>\n",
       "</table>\n",
       "<p>1826 rows × 11 columns</p>\n",
       "</div>"
      ],
      "text/plain": [
       "            Date  Day of the week [-]   Temp [C]  Humidity [%]  Wind [m/s]  \\\n",
       "0     01/01/2017                  7.0  -2.078947     85.666667    2.817778   \n",
       "1     02/01/2017                  1.0  -1.885965     83.711111    2.886667   \n",
       "2     03/01/2017                  2.0  -1.631579     89.711111    3.633333   \n",
       "3     04/01/2017                  3.0   0.229825     88.800000    5.257778   \n",
       "4     05/01/2017                  4.0  -5.033333     80.111111    4.384444   \n",
       "...          ...                  ...        ...           ...         ...   \n",
       "1821  27/12/2021                  3.0 -10.050877     85.044444    1.824444   \n",
       "1822  28/12/2021                  4.0  -5.714035     86.422222    3.097778   \n",
       "1823  29/12/2021                  5.0  -1.770175     91.611111    1.506667   \n",
       "1824  30/12/2021                  6.0   2.092982     93.988889    1.960000   \n",
       "1825  31/12/2021                  7.0   7.370175     94.466667    3.380000   \n",
       "\n",
       "      Clouds [1/8]  SUM - Entry [GWh/d]  SUM - Exit [GWh/d]  \\\n",
       "0         2.587273           466.017771          555.507468   \n",
       "1         2.647273           482.377191          615.189159   \n",
       "2         3.312727           507.121338          623.232658   \n",
       "3         4.689091           484.296908          626.042006   \n",
       "4         3.974545           483.992000          689.796844   \n",
       "...            ...                  ...                 ...   \n",
       "1821      1.736364           586.072921          851.060055   \n",
       "1822      3.038182           620.830330          914.931349   \n",
       "1823      1.430909           619.364426          878.801180   \n",
       "1824      1.900000           508.063438          818.608756   \n",
       "1825      3.212727           618.683263          716.773191   \n",
       "\n",
       "      SUM - Exit t-1d [GWh/d]  Storage t-1d [GWh/d]  Storage [GWh/d]  \n",
       "0                  555.507468            179.179566       179.179566  \n",
       "1                  555.507468            179.179566       185.100405  \n",
       "2                  615.189159            185.100405       218.470698  \n",
       "3                  623.232658            218.470698       207.183162  \n",
       "4                  626.042006            207.183162       223.941467  \n",
       "...                       ...                   ...              ...  \n",
       "1821               778.596491            116.434676       164.700744  \n",
       "1822               851.060055            164.700744       205.577578  \n",
       "1823               914.931349            205.577578       170.559363  \n",
       "1824               878.801180            170.559363       176.970948  \n",
       "1825               818.608756            176.970948       151.935409  \n",
       "\n",
       "[1826 rows x 11 columns]"
      ]
     },
     "execution_count": 2,
     "metadata": {},
     "output_type": "execute_result"
    }
   ],
   "source": [
    "file = open('Avg_data.csv','r')\n",
    "df = pd.read_csv(file)\n",
    "df"
   ]
  },
  {
   "cell_type": "code",
   "execution_count": 3,
   "metadata": {},
   "outputs": [],
   "source": [
    "df[[\"day\", \"month\", \"year\"]] = df[\"Date\"].str.split(\"/\", expand = True)\n",
    "df['day'] = df['day'].astype(float)\n",
    "df['month'] = df['month'].astype(float)\n",
    "df['year'] = df['year'].astype(float)"
   ]
  },
  {
   "cell_type": "code",
   "execution_count": 4,
   "metadata": {},
   "outputs": [],
   "source": [
    "df = df.drop(['Date'],axis=1)"
   ]
  },
  {
   "cell_type": "code",
   "execution_count": 5,
   "metadata": {},
   "outputs": [
    {
     "data": {
      "text/plain": [
       "array([[ 7.00000000e+00, -2.07894737e+00,  8.56666667e+01, ...,\n",
       "         1.00000000e+00,  1.00000000e+00,  2.01700000e+03],\n",
       "       [ 1.00000000e+00, -1.88596491e+00,  8.37111111e+01, ...,\n",
       "         2.00000000e+00,  1.00000000e+00,  2.01700000e+03],\n",
       "       [ 2.00000000e+00, -1.63157895e+00,  8.97111111e+01, ...,\n",
       "         3.00000000e+00,  1.00000000e+00,  2.01700000e+03],\n",
       "       ...,\n",
       "       [ 5.00000000e+00, -1.77017544e+00,  9.16111111e+01, ...,\n",
       "         2.90000000e+01,  1.20000000e+01,  2.02100000e+03],\n",
       "       [ 6.00000000e+00,  2.09298246e+00,  9.39888889e+01, ...,\n",
       "         3.00000000e+01,  1.20000000e+01,  2.02100000e+03],\n",
       "       [ 7.00000000e+00,  7.37017544e+00,  9.44666667e+01, ...,\n",
       "         3.10000000e+01,  1.20000000e+01,  2.02100000e+03]])"
      ]
     },
     "execution_count": 5,
     "metadata": {},
     "output_type": "execute_result"
    }
   ],
   "source": [
    "df.values"
   ]
  },
  {
   "cell_type": "code",
   "execution_count": 6,
   "metadata": {},
   "outputs": [
    {
     "data": {
      "text/plain": [
       "tensor([[ 7.0000e+00, -2.0789e+00,  8.5667e+01,  ...,  1.0000e+00,\n",
       "          1.0000e+00,  2.0170e+03],\n",
       "        [ 1.0000e+00, -1.8860e+00,  8.3711e+01,  ...,  2.0000e+00,\n",
       "          1.0000e+00,  2.0170e+03],\n",
       "        [ 2.0000e+00, -1.6316e+00,  8.9711e+01,  ...,  3.0000e+00,\n",
       "          1.0000e+00,  2.0170e+03],\n",
       "        ...,\n",
       "        [ 5.0000e+00, -1.7702e+00,  9.1611e+01,  ...,  2.9000e+01,\n",
       "          1.2000e+01,  2.0210e+03],\n",
       "        [ 6.0000e+00,  2.0930e+00,  9.3989e+01,  ...,  3.0000e+01,\n",
       "          1.2000e+01,  2.0210e+03],\n",
       "        [ 7.0000e+00,  7.3702e+00,  9.4467e+01,  ...,  3.1000e+01,\n",
       "          1.2000e+01,  2.0210e+03]], dtype=torch.float64)"
      ]
     },
     "execution_count": 6,
     "metadata": {},
     "output_type": "execute_result"
    }
   ],
   "source": [
    "data = torch.tensor(df.values)\n",
    "data"
   ]
  },
  {
   "cell_type": "code",
   "execution_count": 7,
   "metadata": {},
   "outputs": [
    {
     "data": {
      "text/plain": [
       "tensor([ 7.0000e+00, -2.0789e+00,  8.5667e+01,  2.8178e+00,  2.5873e+00,\n",
       "         4.6602e+02,  5.5551e+02,  5.5551e+02,  1.7918e+02,  1.7918e+02,\n",
       "         1.0000e+00,  1.0000e+00,  2.0170e+03], dtype=torch.float64)"
      ]
     },
     "execution_count": 7,
     "metadata": {},
     "output_type": "execute_result"
    }
   ],
   "source": [
    "data[0]"
   ]
  },
  {
   "cell_type": "code",
   "execution_count": 8,
   "metadata": {},
   "outputs": [
    {
     "name": "stderr",
     "output_type": "stream",
     "text": [
      "c:\\Users\\trzci\\anaconda3\\lib\\site-packages\\torchvision\\io\\image.py:13: UserWarning: Failed to load image Python extension: [WinError 127] The specified procedure could not be found\n",
      "  warn(f\"Failed to load image Python extension: {e}\")\n"
     ]
    },
    {
     "data": {
      "text/plain": [
       "tensor([[ 7.0000e+00, -2.0789e+00,  8.5667e+01,  2.8178e+00,  2.5873e+00,\n",
       "          4.6602e+02,  5.5551e+02,  5.5551e+02,  1.7918e+02,  1.7918e+02,\n",
       "          1.0000e+00,  1.0000e+00,  2.0170e+03],\n",
       "        [ 1.0000e+00, -1.8860e+00,  8.3711e+01,  2.8867e+00,  2.6473e+00,\n",
       "          4.8238e+02,  6.1519e+02,  5.5551e+02,  1.7918e+02,  1.8510e+02,\n",
       "          2.0000e+00,  1.0000e+00,  2.0170e+03],\n",
       "        [ 2.0000e+00, -1.6316e+00,  8.9711e+01,  3.6333e+00,  3.3127e+00,\n",
       "          5.0712e+02,  6.2323e+02,  6.1519e+02,  1.8510e+02,  2.1847e+02,\n",
       "          3.0000e+00,  1.0000e+00,  2.0170e+03],\n",
       "        [ 3.0000e+00,  2.2982e-01,  8.8800e+01,  5.2578e+00,  4.6891e+00,\n",
       "          4.8430e+02,  6.2604e+02,  6.2323e+02,  2.1847e+02,  2.0718e+02,\n",
       "          4.0000e+00,  1.0000e+00,  2.0170e+03],\n",
       "        [ 4.0000e+00, -5.0333e+00,  8.0111e+01,  4.3844e+00,  3.9745e+00,\n",
       "          4.8399e+02,  6.8980e+02,  6.2604e+02,  2.0718e+02,  2.2394e+02,\n",
       "          5.0000e+00,  1.0000e+00,  2.0170e+03],\n",
       "        [ 5.0000e+00, -1.2118e+01,  7.4667e+01,  2.8800e+00,  2.5618e+00,\n",
       "          5.0046e+02,  7.3380e+02,  6.8980e+02,  2.2394e+02,  2.2439e+02,\n",
       "          6.0000e+00,  1.0000e+00,  2.0170e+03],\n",
       "        [ 6.0000e+00, -1.5888e+01,  7.8011e+01,  2.0800e+00,  1.8727e+00,\n",
       "          5.1212e+02,  7.5536e+02,  7.3380e+02,  2.2439e+02,  2.1377e+02,\n",
       "          7.0000e+00,  1.0000e+00,  2.0170e+03],\n",
       "        [ 7.0000e+00, -1.3705e+01,  7.9278e+01,  1.5222e+00,  1.3491e+00,\n",
       "          5.1023e+02,  7.5124e+02,  7.5536e+02,  2.1377e+02,  2.1547e+02,\n",
       "          8.0000e+00,  1.0000e+00,  2.0170e+03],\n",
       "        [ 1.0000e+00, -8.7000e+00,  8.0478e+01,  1.6222e+00,  1.4709e+00,\n",
       "          4.8942e+02,  7.5850e+02,  7.5124e+02,  2.1547e+02,  2.1145e+02,\n",
       "          9.0000e+00,  1.0000e+00,  2.0170e+03],\n",
       "        [ 2.0000e+00, -9.5877e+00,  7.9589e+01,  1.9867e+00,  1.8309e+00,\n",
       "          4.8628e+02,  7.6641e+02,  7.5850e+02,  2.1145e+02,  2.0452e+02,\n",
       "          1.0000e+01,  1.0000e+00,  2.0170e+03],\n",
       "        [ 3.0000e+00, -1.0886e+01,  7.6278e+01,  2.2800e+00,  2.1745e+00,\n",
       "          5.1705e+02,  7.5485e+02,  7.6641e+02,  2.0452e+02,  2.0349e+02,\n",
       "          1.1000e+01,  1.0000e+00,  2.0170e+03],\n",
       "        [ 4.0000e+00, -3.1158e+00,  8.9867e+01,  3.9111e+00,  3.7236e+00,\n",
       "          5.1657e+02,  6.7579e+02,  7.5485e+02,  2.0349e+02,  1.9878e+02,\n",
       "          1.2000e+01,  1.0000e+00,  2.0170e+03],\n",
       "        [ 5.0000e+00, -4.9474e-01,  8.4556e+01,  3.0711e+00,  2.7509e+00,\n",
       "          5.2368e+02,  6.3552e+02,  6.7579e+02,  1.9878e+02,  1.6340e+02,\n",
       "          1.3000e+01,  1.0000e+00,  2.0170e+03],\n",
       "        [ 6.0000e+00, -8.0351e-01,  8.8544e+01,  2.3356e+00,  2.1564e+00,\n",
       "          5.2491e+02,  6.0814e+02,  6.3552e+02,  1.6340e+02,  1.7158e+02,\n",
       "          1.4000e+01,  1.0000e+00,  2.0170e+03],\n",
       "        [ 7.0000e+00, -2.3351e+00,  8.8756e+01,  1.7600e+00,  1.5564e+00,\n",
       "          5.2432e+02,  6.1022e+02,  6.0814e+02,  1.7158e+02,  1.6560e+02,\n",
       "          1.5000e+01,  1.0000e+00,  2.0170e+03],\n",
       "        [ 1.0000e+00, -4.6912e+00,  8.9189e+01,  1.1089e+00,  9.8000e-01,\n",
       "          5.2459e+02,  6.4979e+02,  6.1022e+02,  1.6560e+02,  1.9766e+02,\n",
       "          1.6000e+01,  1.0000e+00,  2.0170e+03],\n",
       "        [ 2.0000e+00, -5.3825e+00,  9.0156e+01,  1.3822e+00,  1.2418e+00,\n",
       "          5.1840e+02,  6.7819e+02,  6.4979e+02,  1.9766e+02,  2.1129e+02,\n",
       "          1.7000e+01,  1.0000e+00,  2.0170e+03],\n",
       "        [ 3.0000e+00, -6.3333e+00,  8.7511e+01,  1.9000e+00,  1.7964e+00,\n",
       "          5.1309e+02,  7.0063e+02,  6.7819e+02,  2.1129e+02,  2.1369e+02,\n",
       "          1.8000e+01,  1.0000e+00,  2.0170e+03],\n",
       "        [ 4.0000e+00, -7.0544e+00,  8.7289e+01,  1.7622e+00,  1.7491e+00,\n",
       "          5.2974e+02,  7.0897e+02,  7.0063e+02,  2.1369e+02,  2.0730e+02,\n",
       "          1.9000e+01,  1.0000e+00,  2.0170e+03],\n",
       "        [ 5.0000e+00, -3.9807e+00,  9.0267e+01,  1.7667e+00,  1.6982e+00,\n",
       "          5.2984e+02,  6.5795e+02,  7.0897e+02,  2.0730e+02,  2.0396e+02,\n",
       "          2.0000e+01,  1.0000e+00,  2.0170e+03],\n",
       "        [ 6.0000e+00, -1.9474e-01,  9.5189e+01,  1.4911e+00,  1.3709e+00,\n",
       "          5.2815e+02,  6.0488e+02,  6.5795e+02,  2.0396e+02,  1.6041e+02,\n",
       "          2.1000e+01,  1.0000e+00,  2.0170e+03],\n",
       "        [ 7.0000e+00, -1.0368e+00,  9.2322e+01,  1.8244e+00,  1.6891e+00,\n",
       "          5.2814e+02,  6.0414e+02,  6.0488e+02,  1.6041e+02,  1.5811e+02,\n",
       "          2.2000e+01,  1.0000e+00,  2.0170e+03],\n",
       "        [ 1.0000e+00, -3.6070e+00,  8.4667e+01,  1.6867e+00,  1.5164e+00,\n",
       "          5.2979e+02,  6.3139e+02,  6.0414e+02,  1.5811e+02,  1.7192e+02,\n",
       "          2.3000e+01,  1.0000e+00,  2.0170e+03],\n",
       "        [ 1.0000e+00, -5.0351e+00,  9.0956e+01,  1.7622e+00,  1.7000e+00,\n",
       "          5.1301e+02,  6.4868e+02,  6.3139e+02,  1.7192e+02,  1.9869e+02,\n",
       "          2.4000e+01,  1.0000e+00,  2.0170e+03],\n",
       "        [ 2.0000e+00, -1.7772e+00,  9.2267e+01,  1.2689e+00,  1.1436e+00,\n",
       "          5.1280e+02,  6.3558e+02,  6.4868e+02,  1.9869e+02,  1.9925e+02,\n",
       "          2.5000e+01,  1.0000e+00,  2.0170e+03],\n",
       "        [ 3.0000e+00, -4.5000e+00,  8.4211e+01,  1.2444e+00,  1.1273e+00,\n",
       "          5.1321e+02,  6.5017e+02,  6.3558e+02,  1.9925e+02,  1.8826e+02,\n",
       "          2.6000e+01,  1.0000e+00,  2.0170e+03],\n",
       "        [ 4.0000e+00, -6.0298e+00,  7.7333e+01,  1.1733e+00,  9.9818e-01,\n",
       "          5.1318e+02,  6.5635e+02,  6.5017e+02,  1.8826e+02,  1.8546e+02,\n",
       "          2.7000e+01,  1.0000e+00,  2.0170e+03],\n",
       "        [ 5.0000e+00, -5.6860e+00,  7.7478e+01,  1.3956e+00,  1.2873e+00,\n",
       "          5.2848e+02,  6.3109e+02,  6.5635e+02,  1.8546e+02,  1.5205e+02,\n",
       "          2.8000e+01,  1.0000e+00,  2.0170e+03],\n",
       "        [ 6.0000e+00, -4.6772e+00,  8.0533e+01,  1.6867e+00,  1.5509e+00,\n",
       "          5.2849e+02,  6.1897e+02,  6.3109e+02,  1.5205e+02,  1.3932e+02,\n",
       "          2.9000e+01,  1.0000e+00,  2.0170e+03],\n",
       "        [ 7.0000e+00, -3.7947e+00,  7.5744e+01,  2.0133e+00,  1.8109e+00,\n",
       "          5.2808e+02,  6.4552e+02,  6.1897e+02,  1.3932e+02,  1.5394e+02,\n",
       "          3.0000e+01,  1.0000e+00,  2.0170e+03],\n",
       "        [ 1.0000e+00, -3.1702e+00,  8.1011e+01,  2.2867e+00,  1.9618e+00,\n",
       "          5.1322e+02,  6.3894e+02,  6.4552e+02,  1.5394e+02,  1.6916e+02,\n",
       "          3.1000e+01,  1.0000e+00,  2.0170e+03],\n",
       "        [ 2.0000e+00, -2.3105e+00,  8.7689e+01,  1.3822e+00,  1.2273e+00,\n",
       "          4.9581e+02,  6.4118e+02,  6.3894e+02,  1.6916e+02,  1.5426e+02,\n",
       "          1.0000e+00,  2.0000e+00,  2.0170e+03]], dtype=torch.float64)"
      ]
     },
     "execution_count": 8,
     "metadata": {},
     "output_type": "execute_result"
    }
   ],
   "source": [
    "import series_transformer as st\n",
    "\n",
    "dataset = st.CustomDataSet('Avg_data.csv')\n",
    "\n",
    "dataset[0][0]"
   ]
  },
  {
   "cell_type": "code",
   "execution_count": 9,
   "metadata": {},
   "outputs": [
    {
     "ename": "KeyError",
     "evalue": "'DIMENSIONS AND SIZES'",
     "output_type": "error",
     "traceback": [
      "\u001b[1;31m---------------------------------------------------------------------------\u001b[0m",
      "\u001b[1;31mKeyError\u001b[0m                                  Traceback (most recent call last)",
      "Cell \u001b[1;32mIn[9], line 1\u001b[0m\n\u001b[1;32m----> 1\u001b[0m params \u001b[39m=\u001b[39m st\u001b[39m.\u001b[39;49mParameterProvider(\u001b[39m\"\u001b[39;49m\u001b[39mparams_series.config\u001b[39;49m\u001b[39m\"\u001b[39;49m)\n\u001b[0;32m      2\u001b[0m t1 \u001b[39m=\u001b[39m st\u001b[39m.\u001b[39mTransformer(params)\n",
      "File \u001b[1;32md:\\Repos\\Time-Series-Transformer\\series_transformer.py:54\u001b[0m, in \u001b[0;36mParameterProvider.__init__\u001b[1;34m(self, configname)\u001b[0m\n\u001b[0;32m     51\u001b[0m     \u001b[39mself\u001b[39m\u001b[39m.\u001b[39mconfig \u001b[39m=\u001b[39m configparser\u001b[39m.\u001b[39mConfigParser()\n\u001b[0;32m     52\u001b[0m     \u001b[39mself\u001b[39m\u001b[39m.\u001b[39mconfig\u001b[39m.\u001b[39mread(configname)\n\u001b[0;32m     53\u001b[0m     \u001b[39mself\u001b[39m\u001b[39m.\u001b[39mdictionary \u001b[39m=\u001b[39m {\n\u001b[1;32m---> 54\u001b[0m         \u001b[39m\"\u001b[39m\u001b[39min_features\u001b[39m\u001b[39m\"\u001b[39m: \u001b[39mint\u001b[39m(\u001b[39mself\u001b[39;49m\u001b[39m.\u001b[39;49mconfig[\u001b[39m'\u001b[39;49m\u001b[39mDIMENSIONS AND SIZES\u001b[39;49m\u001b[39m'\u001b[39;49m][\u001b[39m'\u001b[39m\u001b[39min_features\u001b[39m\u001b[39m'\u001b[39m]),\n\u001b[0;32m     55\u001b[0m         \u001b[39m\"\u001b[39m\u001b[39md_model\u001b[39m\u001b[39m\"\u001b[39m: \u001b[39mint\u001b[39m(\u001b[39mself\u001b[39m\u001b[39m.\u001b[39mconfig[\u001b[39m'\u001b[39m\u001b[39mDIMENSIONS AND SIZES\u001b[39m\u001b[39m'\u001b[39m][\u001b[39m'\u001b[39m\u001b[39md_model\u001b[39m\u001b[39m'\u001b[39m]),\n\u001b[0;32m     56\u001b[0m         \u001b[39m\"\u001b[39m\u001b[39md_qk\u001b[39m\u001b[39m\"\u001b[39m: \u001b[39mint\u001b[39m(\u001b[39mself\u001b[39m\u001b[39m.\u001b[39mconfig[\u001b[39m'\u001b[39m\u001b[39mDIMENSIONS AND SIZES\u001b[39m\u001b[39m'\u001b[39m][\u001b[39m'\u001b[39m\u001b[39md_qk\u001b[39m\u001b[39m'\u001b[39m]),\n\u001b[0;32m     57\u001b[0m         \u001b[39m\"\u001b[39m\u001b[39md_v\u001b[39m\u001b[39m\"\u001b[39m: \u001b[39mint\u001b[39m(\u001b[39mself\u001b[39m\u001b[39m.\u001b[39mconfig[\u001b[39m'\u001b[39m\u001b[39mDIMENSIONS AND SIZES\u001b[39m\u001b[39m'\u001b[39m][\u001b[39m'\u001b[39m\u001b[39md_v\u001b[39m\u001b[39m'\u001b[39m]),\n\u001b[0;32m     58\u001b[0m         \u001b[39m\"\u001b[39m\u001b[39md_ff\u001b[39m\u001b[39m\"\u001b[39m: \u001b[39mint\u001b[39m(\u001b[39mself\u001b[39m\u001b[39m.\u001b[39mconfig[\u001b[39m'\u001b[39m\u001b[39mDIMENSIONS AND SIZES\u001b[39m\u001b[39m'\u001b[39m][\u001b[39m'\u001b[39m\u001b[39md_ff\u001b[39m\u001b[39m'\u001b[39m]),\n\u001b[0;32m     59\u001b[0m         \u001b[39m\"\u001b[39m\u001b[39mn_encoders\u001b[39m\u001b[39m\"\u001b[39m: \u001b[39mint\u001b[39m(\u001b[39mself\u001b[39m\u001b[39m.\u001b[39mconfig[\u001b[39m'\u001b[39m\u001b[39mDIMENSIONS AND SIZES\u001b[39m\u001b[39m'\u001b[39m][\u001b[39m'\u001b[39m\u001b[39mn_encoders\u001b[39m\u001b[39m'\u001b[39m]),\n\u001b[0;32m     60\u001b[0m         \u001b[39m\"\u001b[39m\u001b[39mn_decoders\u001b[39m\u001b[39m\"\u001b[39m: \u001b[39mint\u001b[39m(\u001b[39mself\u001b[39m\u001b[39m.\u001b[39mconfig[\u001b[39m'\u001b[39m\u001b[39mDIMENSIONS AND SIZES\u001b[39m\u001b[39m'\u001b[39m][\u001b[39m'\u001b[39m\u001b[39mn_decoders\u001b[39m\u001b[39m'\u001b[39m]),\n\u001b[0;32m     61\u001b[0m         \u001b[39m\"\u001b[39m\u001b[39mn_heads\u001b[39m\u001b[39m\"\u001b[39m: \u001b[39mint\u001b[39m(\u001b[39mself\u001b[39m\u001b[39m.\u001b[39mconfig[\u001b[39m'\u001b[39m\u001b[39mDIMENSIONS AND SIZES\u001b[39m\u001b[39m'\u001b[39m][\u001b[39m'\u001b[39m\u001b[39mn_heads\u001b[39m\u001b[39m'\u001b[39m]),\n\u001b[0;32m     62\u001b[0m         \u001b[39m\"\u001b[39m\u001b[39mlearning_rate\u001b[39m\u001b[39m\"\u001b[39m: \u001b[39mfloat\u001b[39m(\u001b[39mself\u001b[39m\u001b[39m.\u001b[39mconfig[\u001b[39m'\u001b[39m\u001b[39mTRAINING PARAMETERS\u001b[39m\u001b[39m'\u001b[39m][\u001b[39m'\u001b[39m\u001b[39mlearning_rate\u001b[39m\u001b[39m'\u001b[39m]),\n\u001b[0;32m     63\u001b[0m         \u001b[39m\"\u001b[39m\u001b[39mepochs\u001b[39m\u001b[39m\"\u001b[39m: \u001b[39mint\u001b[39m(\u001b[39mself\u001b[39m\u001b[39m.\u001b[39mconfig[\u001b[39m'\u001b[39m\u001b[39mTRAINING PARAMETERS\u001b[39m\u001b[39m'\u001b[39m][\u001b[39m'\u001b[39m\u001b[39mepochs\u001b[39m\u001b[39m'\u001b[39m]),\n\u001b[0;32m     64\u001b[0m         \u001b[39m\"\u001b[39m\u001b[39mdropout\u001b[39m\u001b[39m\"\u001b[39m: \u001b[39mfloat\u001b[39m(\u001b[39mself\u001b[39m\u001b[39m.\u001b[39mconfig[\u001b[39m'\u001b[39m\u001b[39mTRAINING PARAMETERS\u001b[39m\u001b[39m'\u001b[39m][\u001b[39m'\u001b[39m\u001b[39mdropout\u001b[39m\u001b[39m'\u001b[39m])\n\u001b[0;32m     65\u001b[0m     }\n\u001b[0;32m     66\u001b[0m \u001b[39melse\u001b[39;00m:\n\u001b[0;32m     67\u001b[0m     \u001b[39mself\u001b[39m\u001b[39m.\u001b[39mdictionary \u001b[39m=\u001b[39m {\n\u001b[0;32m     68\u001b[0m         \u001b[39m\"\u001b[39m\u001b[39min_features\u001b[39m\u001b[39m\"\u001b[39m: \u001b[39m0\u001b[39m,\n\u001b[0;32m     69\u001b[0m         \u001b[39m\"\u001b[39m\u001b[39md_model\u001b[39m\u001b[39m\"\u001b[39m: \u001b[39m0\u001b[39m,\n\u001b[1;32m   (...)\u001b[0m\n\u001b[0;32m     77\u001b[0m         \u001b[39m\"\u001b[39m\u001b[39mepochs\u001b[39m\u001b[39m\"\u001b[39m: \u001b[39m0\u001b[39m\n\u001b[0;32m     78\u001b[0m     }\n",
      "File \u001b[1;32mc:\\Users\\trzci\\anaconda3\\lib\\configparser.py:963\u001b[0m, in \u001b[0;36mRawConfigParser.__getitem__\u001b[1;34m(self, key)\u001b[0m\n\u001b[0;32m    961\u001b[0m \u001b[39mdef\u001b[39;00m \u001b[39m__getitem__\u001b[39m(\u001b[39mself\u001b[39m, key):\n\u001b[0;32m    962\u001b[0m     \u001b[39mif\u001b[39;00m key \u001b[39m!=\u001b[39m \u001b[39mself\u001b[39m\u001b[39m.\u001b[39mdefault_section \u001b[39mand\u001b[39;00m \u001b[39mnot\u001b[39;00m \u001b[39mself\u001b[39m\u001b[39m.\u001b[39mhas_section(key):\n\u001b[1;32m--> 963\u001b[0m         \u001b[39mraise\u001b[39;00m \u001b[39mKeyError\u001b[39;00m(key)\n\u001b[0;32m    964\u001b[0m     \u001b[39mreturn\u001b[39;00m \u001b[39mself\u001b[39m\u001b[39m.\u001b[39m_proxies[key]\n",
      "\u001b[1;31mKeyError\u001b[0m: 'DIMENSIONS AND SIZES'"
     ]
    }
   ],
   "source": [
    "params = st.ParameterProvider(\"series.config\")\n",
    "t1 = st.Transformer(params)"
   ]
  },
  {
   "cell_type": "code",
   "execution_count": null,
   "metadata": {},
   "outputs": [
    {
     "name": "stdout",
     "output_type": "stream",
     "text": [
      "tensor([ 2.0000e+00, -2.3105e+00,  8.7689e+01,  1.3822e+00,  1.2273e+00,\n",
      "         4.9581e+02,  6.4118e+02,  6.3894e+02,  1.6916e+02,  1.5426e+02,\n",
      "         1.0000e+00,  2.0000e+00,  2.0170e+03], dtype=torch.float64)\n",
      "tensor([ 2.0000e+00, -2.3105e+00,  8.7689e+01,  1.3822e+00,  1.2273e+00,\n",
      "         4.9581e+02,  6.4118e+02,  6.3894e+02,  1.6916e+02,  1.5426e+02,\n",
      "         1.0000e+00,  2.0000e+00,  2.0170e+03], dtype=torch.float64)\n",
      "---\n",
      "tensor([ 3.0000e+00, -5.0000e-01,  9.3689e+01,  1.4511e+00,  1.2400e+00,\n",
      "         5.1971e+02,  6.2564e+02,  6.4118e+02,  1.5426e+02,  1.2932e+02,\n",
      "         2.0000e+00,  2.0000e+00,  2.0170e+03], dtype=torch.float64)\n",
      "tensor([ 3.0000e+00, -5.0000e-01,  9.3689e+01,  1.4511e+00,  1.2400e+00,\n",
      "         5.1971e+02,  6.2564e+02,  6.4118e+02,  1.5426e+02,  1.2932e+02,\n",
      "         2.0000e+00,  2.0000e+00,  2.0170e+03], dtype=torch.float64)\n"
     ]
    }
   ],
   "source": [
    "# to see if they are shifted\n",
    "print(dataset[0][0][-1])\n",
    "print(dataset[0][1][0])\n",
    "print('---')\n",
    "print(dataset[0][1][1])\n",
    "print(dataset[0][2][0])"
   ]
  },
  {
   "cell_type": "code",
   "execution_count": null,
   "metadata": {},
   "outputs": [
    {
     "data": {
      "text/plain": [
       "tensor([[ 2.0000e+00, -2.3105e+00,  8.7689e+01,  1.3822e+00,  1.2273e+00,\n",
       "          4.9581e+02,  6.4118e+02,  6.3894e+02,  1.6916e+02,  1.5426e+02,\n",
       "          1.0000e+00,  2.0000e+00,  2.0170e+03]], dtype=torch.float64)"
      ]
     },
     "execution_count": 11,
     "metadata": {},
     "output_type": "execute_result"
    }
   ],
   "source": [
    "torch.unsqueeze(dataset[0][0][-1],0)"
   ]
  },
  {
   "cell_type": "code",
   "execution_count": null,
   "metadata": {},
   "outputs": [
    {
     "name": "stdout",
     "output_type": "stream",
     "text": [
      "True\n"
     ]
    },
    {
     "data": {
      "text/plain": [
       "0"
      ]
     },
     "execution_count": 12,
     "metadata": {},
     "output_type": "execute_result"
    }
   ],
   "source": [
    "print(torch.cuda.is_available())\n",
    "device_id = torch.cuda.current_device()\n",
    "device_id"
   ]
  },
  {
   "cell_type": "code",
   "execution_count": null,
   "metadata": {},
   "outputs": [
    {
     "data": {
      "text/plain": [
       "Transformer(\n",
       "  (encoder_input_transformation): InputTransformation(\n",
       "    (linear): Linear(in_features=13, out_features=32, bias=True)\n",
       "  )\n",
       "  (decoder_input_transformation): InputTransformation(\n",
       "    (linear): Linear(in_features=13, out_features=32, bias=True)\n",
       "  )\n",
       "  (pos_encoding_in): PositionalEncoding(\n",
       "    (dropout): Dropout(p=0.1, inplace=False)\n",
       "  )\n",
       "  (pos_encoding_out): PositionalEncoding(\n",
       "    (dropout): Dropout(p=0.1, inplace=False)\n",
       "  )\n",
       "  (encoder_stack): EncoderStack(\n",
       "    (encoders): ModuleList(\n",
       "      (0-3): 4 x EncoderLayer(\n",
       "        (feed_forward): Sequential(\n",
       "          (0): Linear(in_features=32, out_features=64, bias=True)\n",
       "          (1): ReLU()\n",
       "          (2): Linear(in_features=64, out_features=32, bias=True)\n",
       "        )\n",
       "        (mha): MultiHeadedAttention(\n",
       "          (heads): ModuleList(\n",
       "            (0-3): 4 x AttentionHead(\n",
       "              (l): Linear(in_features=100, out_features=200, bias=True)\n",
       "              (WQ): Linear(in_features=32, out_features=12, bias=True)\n",
       "              (WK): Linear(in_features=32, out_features=12, bias=True)\n",
       "              (WV): Linear(in_features=32, out_features=12, bias=True)\n",
       "            )\n",
       "          )\n",
       "          (linear): Linear(in_features=48, out_features=32, bias=True)\n",
       "        )\n",
       "        (norm): LayerNorm((32,), eps=1e-05, elementwise_affine=True)\n",
       "      )\n",
       "    )\n",
       "  )\n",
       "  (decoder_stack): DecoderStack(\n",
       "    (decoders): ModuleList(\n",
       "      (0-3): 4 x DecoderLayer(\n",
       "        (feed_forward): Sequential(\n",
       "          (0): Linear(in_features=32, out_features=64, bias=True)\n",
       "          (1): ReLU()\n",
       "          (2): Linear(in_features=64, out_features=32, bias=True)\n",
       "        )\n",
       "        (self_mha): MultiHeadedAttention(\n",
       "          (heads): ModuleList(\n",
       "            (0-3): 4 x AttentionHead(\n",
       "              (l): Linear(in_features=100, out_features=200, bias=True)\n",
       "              (WQ): Linear(in_features=32, out_features=12, bias=True)\n",
       "              (WK): Linear(in_features=32, out_features=12, bias=True)\n",
       "              (WV): Linear(in_features=32, out_features=12, bias=True)\n",
       "            )\n",
       "          )\n",
       "          (linear): Linear(in_features=48, out_features=32, bias=True)\n",
       "        )\n",
       "        (ed_mha): MultiHeadedAttention(\n",
       "          (heads): ModuleList(\n",
       "            (0-3): 4 x AttentionHead(\n",
       "              (l): Linear(in_features=100, out_features=200, bias=True)\n",
       "              (WQ): Linear(in_features=32, out_features=12, bias=True)\n",
       "              (WK): Linear(in_features=32, out_features=12, bias=True)\n",
       "              (WV): Linear(in_features=32, out_features=12, bias=True)\n",
       "            )\n",
       "          )\n",
       "          (linear): Linear(in_features=48, out_features=32, bias=True)\n",
       "        )\n",
       "        (norm): LayerNorm((32,), eps=1e-05, elementwise_affine=True)\n",
       "      )\n",
       "    )\n",
       "  )\n",
       "  (out): NumericalOut(\n",
       "    (linear): Linear(in_features=32, out_features=13, bias=True)\n",
       "  )\n",
       ")"
      ]
     },
     "execution_count": 13,
     "metadata": {},
     "output_type": "execute_result"
    }
   ],
   "source": [
    "t1.cuda(device_id)"
   ]
  },
  {
   "cell_type": "code",
   "execution_count": null,
   "metadata": {},
   "outputs": [
    {
     "data": {
      "text/plain": [
       "torch.float32"
      ]
     },
     "execution_count": 14,
     "metadata": {},
     "output_type": "execute_result"
    }
   ],
   "source": [
    "torch.unsqueeze(dataset[0][0][-1],0).to(torch.float).dtype"
   ]
  },
  {
   "cell_type": "code",
   "execution_count": null,
   "metadata": {},
   "outputs": [],
   "source": [
    "output = t1(torch.unsqueeze(dataset[0][0],0).to(torch.float).cuda(device_id), torch.unsqueeze(dataset[0][1],0).to(torch.float).cuda(device_id))"
   ]
  },
  {
   "cell_type": "code",
   "execution_count": null,
   "metadata": {},
   "outputs": [
    {
     "data": {
      "text/plain": [
       "torch.Size([1, 7, 13])"
      ]
     },
     "execution_count": 26,
     "metadata": {},
     "output_type": "execute_result"
    }
   ],
   "source": [
    "output.size()"
   ]
  },
  {
   "cell_type": "code",
   "execution_count": null,
   "metadata": {},
   "outputs": [
    {
     "data": {
      "text/plain": [
       "torch.Size([1, 7, 13])"
      ]
     },
     "execution_count": 27,
     "metadata": {},
     "output_type": "execute_result"
    }
   ],
   "source": [
    "torch.unsqueeze(dataset[0][2],0).size()"
   ]
  },
  {
   "cell_type": "code",
   "execution_count": null,
   "metadata": {},
   "outputs": [],
   "source": []
  }
 ],
 "metadata": {
  "kernelspec": {
   "display_name": "base",
   "language": "python",
   "name": "python3"
  },
  "language_info": {
   "codemirror_mode": {
    "name": "ipython",
    "version": 3
   },
   "file_extension": ".py",
   "mimetype": "text/x-python",
   "name": "python",
   "nbconvert_exporter": "python",
   "pygments_lexer": "ipython3",
   "version": "3.9.16"
  },
  "orig_nbformat": 4
 },
 "nbformat": 4,
 "nbformat_minor": 2
}
